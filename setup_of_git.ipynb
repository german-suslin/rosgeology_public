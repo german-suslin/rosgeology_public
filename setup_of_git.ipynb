{
  "nbformat": 4,
  "nbformat_minor": 0,
  "metadata": {
    "colab": {
      "provenance": [],
      "authorship_tag": "ABX9TyM30/YVL7Y3bMMIT57F+XMB",
      "include_colab_link": true
    },
    "kernelspec": {
      "name": "python3",
      "display_name": "Python 3"
    },
    "language_info": {
      "name": "python"
    }
  },
  "cells": [
    {
      "cell_type": "markdown",
      "metadata": {
        "id": "view-in-github",
        "colab_type": "text"
      },
      "source": [
        "<a href=\"https://colab.research.google.com/github/german-suslin/rosgeology_public/blob/master/setup_of_git.ipynb\" target=\"_parent\"><img src=\"https://colab.research.google.com/assets/colab-badge.svg\" alt=\"Open In Colab\"/></a>"
      ]
    },
    {
      "cell_type": "markdown",
      "source": [
        "Во первых необходимо зарегистриорваться на github.com\n",
        "После чего, задав имя вашему аккаунту, отправьте его владельцу проекта (на чьём аккаунте создан проект) и он добавит вас в качестве соавтора в проект."
      ],
      "metadata": {
        "id": "K4w--XhdH3g2"
      }
    },
    {
      "cell_type": "markdown",
      "source": [
        "Далее выбираете на верхней панели в Google Colab выбираете \"Файл\"->\"Сохранить копию в GitHub\""
      ],
      "metadata": {
        "id": "TJLFJwFrIT23"
      }
    },
    {
      "cell_type": "code",
      "source": [],
      "metadata": {
        "id": "HllTRgxaITJl"
      },
      "execution_count": null,
      "outputs": []
    },
    {
      "cell_type": "code",
      "execution_count": null,
      "metadata": {
        "id": "rf6Of3wSH0LW"
      },
      "outputs": [],
      "source": []
    }
  ]
}